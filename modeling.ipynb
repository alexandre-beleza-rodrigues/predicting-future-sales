{
 "cells": [
  {
   "cell_type": "markdown",
   "id": "insured-relevance",
   "metadata": {},
   "source": [
    "# Modeling"
   ]
  },
  {
   "cell_type": "code",
   "execution_count": 1,
   "id": "active-playlist",
   "metadata": {},
   "outputs": [],
   "source": [
    "import pandas as pd\n",
    "import numpy as np\n",
    "import lightgbm as lgb\n",
    "import shap\n",
    "from plotly.subplots import make_subplots\n",
    "import plotly.graph_objects as go\n",
    "from sklearn.model_selection import cross_val_score\n",
    "\n",
    "pd.set_option('display.max_rows', 160)\n",
    "pd.set_option('display.max_columns', 160)\n",
    "pd.set_option('display.max_colwidth', 30)\n",
    "\n",
    "import warnings\n",
    "warnings.filterwarnings(\"ignore\")"
   ]
  },
  {
   "cell_type": "code",
   "execution_count": 2,
   "id": "sweet-reach",
   "metadata": {},
   "outputs": [],
   "source": [
    "# load the proeprocessed data\n",
    "df = pd.read_pickle('data/df_complete.pkl')\n",
    "\n",
    "X_train = df[~df.date_block_num.isin([0, 1, 33, 34])]\n",
    "y_train = X_train['item_cnt']\n",
    "del X_train['item_cnt']\n",
    "\n",
    "X_val = df[df['date_block_num']==33]\n",
    "y_val = X_val['item_cnt']\n",
    "del X_val['item_cnt']\n",
    "\n",
    "X_test = df[df['date_block_num']==34].drop(columns='item_cnt')\n",
    "X_test = X_test.reset_index()\n",
    "del X_test['index']\n",
    "\n",
    "# free memory\n",
    "del df"
   ]
  },
  {
   "cell_type": "markdown",
   "id": "starting-exchange",
   "metadata": {},
   "source": [
    "#### LightGBM"
   ]
  },
  {
   "cell_type": "code",
   "execution_count": 3,
   "id": "proof-parliament",
   "metadata": {
    "scrolled": true
   },
   "outputs": [
    {
     "name": "stdout",
     "output_type": "stream",
     "text": [
      "[LightGBM] [Warning] Auto-choosing row-wise multi-threading, the overhead of testing was 0.803145 seconds.\n",
      "You can set `force_row_wise=true` to remove the overhead.\n",
      "And if memory is not enough, you can set `force_col_wise=true`.\n",
      "[LightGBM] [Info] Total Bins 14918\n",
      "[LightGBM] [Info] Number of data points in the train set: 7785068, number of used features: 152\n",
      "[LightGBM] [Info] Start training from score 0.313209\n",
      "Training until validation scores don't improve for 30 rounds\n",
      "[50]\ttraining's rmse: 0.978905\tvalid_1's rmse: 0.893572\n",
      "[100]\ttraining's rmse: 0.840032\tvalid_1's rmse: 0.80698\n",
      "[150]\ttraining's rmse: 0.7648\tvalid_1's rmse: 0.77043\n",
      "[200]\ttraining's rmse: 0.722624\tvalid_1's rmse: 0.754407\n",
      "[250]\ttraining's rmse: 0.694978\tvalid_1's rmse: 0.746354\n",
      "[300]\ttraining's rmse: 0.675147\tvalid_1's rmse: 0.742143\n",
      "[350]\ttraining's rmse: 0.659851\tvalid_1's rmse: 0.740023\n",
      "[400]\ttraining's rmse: 0.647107\tvalid_1's rmse: 0.73918\n",
      "[450]\ttraining's rmse: 0.636354\tvalid_1's rmse: 0.738924\n",
      "[500]\ttraining's rmse: 0.62659\tvalid_1's rmse: 0.738778\n",
      "Early stopping, best iteration is:\n",
      "[508]\ttraining's rmse: 0.625269\tvalid_1's rmse: 0.738652\n"
     ]
    }
   ],
   "source": [
    "def build_lgb_model(params, X_train, X_val, y_train, y_val, cat_features):\n",
    "    lgb_train = lgb.Dataset(X_train, y_train)\n",
    "    lgb_val = lgb.Dataset(X_val, y_val)\n",
    "    model = lgb.train(params=params, train_set=lgb_train, valid_sets=(lgb_train, lgb_val), verbose_eval=50,\n",
    "                     categorical_feature=cat_features)\n",
    "    return model\n",
    "#skip this cell if directly loading saved model \n",
    "params = {\n",
    "    'objective': 'rmse',\n",
    "    'metric': 'rmse',\n",
    "    'num_leaves': 1023,\n",
    "    'min_data_in_leaf':10,\n",
    "    'feature_fraction':0.7,\n",
    "    'learning_rate': 0.01,\n",
    "    'num_rounds': 1000,\n",
    "    'early_stopping_rounds': 30,\n",
    "    'seed': 1\n",
    "}\n",
    "#designating the categorical features which should be focused on\n",
    "cat_features = ['item_category_id','month','shop_id','shop_city']\n",
    "\n",
    "lgb_model = build_lgb_model(params, X_train, X_val, y_train, y_val, cat_features)"
   ]
  },
  {
   "cell_type": "code",
   "execution_count": 4,
   "id": "endless-salad",
   "metadata": {},
   "outputs": [],
   "source": [
    "submission = pd.read_csv('data/sample_submission.csv')\n",
    "submission['item_cnt_month'] = lgb_model.predict(X_test).clip(0,20)\n",
    "submission[['ID', 'item_cnt_month']].to_csv('second_lgb_submission.csv', index=False)"
   ]
  }
 ],
 "metadata": {
  "kernelspec": {
   "display_name": "Python 3",
   "language": "python",
   "name": "python3"
  },
  "language_info": {
   "codemirror_mode": {
    "name": "ipython",
    "version": 3
   },
   "file_extension": ".py",
   "mimetype": "text/x-python",
   "name": "python",
   "nbconvert_exporter": "python",
   "pygments_lexer": "ipython3",
   "version": "3.8.0"
  }
 },
 "nbformat": 4,
 "nbformat_minor": 5
}
